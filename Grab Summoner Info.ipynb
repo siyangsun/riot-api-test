{
 "cells": [
  {
   "cell_type": "code",
   "execution_count": 1,
   "metadata": {},
   "outputs": [],
   "source": [
    "from RiotAPI import RiotAPI"
   ]
  },
  {
   "cell_type": "code",
   "execution_count": 2,
   "metadata": {},
   "outputs": [
    {
     "name": "stdout",
     "output_type": "stream",
     "text": [
      "https://na1.api.riotgames.com/lol/summoner/v4/summoners/by-name/Fake%20Dragon?api_key=RGAPI-10fc168e-e980-4b57-986c-9a0616eafaf5\n",
      "{'id': 'Qa8CixtL89Cpjo3rbfHLlm3lwF7AX2w4EWfHeR5Tt5C9vk8', 'accountId': '5T5BUF7aBfdy8uq2al7UWiGdCAdDPLO4FbHv0tyHLbSIpA', 'puuid': 'cSB3oXOB1kjBVvWU_AdOdg8D108bPO6q14Kl4lIfrMX8Yd5nAeTGQO0GWkIKVCxkl1jCO2STyKkr5w', 'name': 'Fake Dragon', 'profileIconId': 588, 'revisionDate': 1543356305000, 'summonerLevel': 70}\n"
     ]
    }
   ],
   "source": [
    "def main():\n",
    "    api = RiotAPI('RGAPI-10fc168e-e980-4b57-986c-9a0616eafaf5')\n",
    "    r = api.get_summoner_by_name('Fake Dragon')\n",
    "    print(r)\n",
    "\n",
    "if __name__ == \"__main__\":\n",
    "    main()"
   ]
  }
 ],
 "metadata": {
  "kernelspec": {
   "display_name": "Python 3",
   "language": "python",
   "name": "python3"
  },
  "language_info": {
   "codemirror_mode": {
    "name": "ipython",
    "version": 3
   },
   "file_extension": ".py",
   "mimetype": "text/x-python",
   "name": "python",
   "nbconvert_exporter": "python",
   "pygments_lexer": "ipython3",
   "version": "3.7.0"
  }
 },
 "nbformat": 4,
 "nbformat_minor": 2
}
