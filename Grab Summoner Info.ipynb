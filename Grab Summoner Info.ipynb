{
 "cells": [
  {
   "cell_type": "code",
   "execution_count": 16,
   "metadata": {},
   "outputs": [],
   "source": [
    "from RiotAPI import RiotAPI\n",
    "import json"
   ]
  },
  {
   "cell_type": "code",
   "execution_count": 4,
   "metadata": {},
   "outputs": [
    {
     "name": "stdout",
     "output_type": "stream",
     "text": [
      "https://na1.api.riotgames.com/lol/summoner/v4/summoners/by-name/Fake%20Dragon?api_key=RGAPI-9e87ebd4-08fa-4ccf-9c57-495bf27c91ea\n",
      "{'id': 'Qa8CixtL89Cpjo3rbfHLlm3lwF7AX2w4EWfHeR5Tt5C9vk8', 'accountId': '5T5BUF7aBfdy8uq2al7UWiGdCAdDPLO4FbHv0tyHLbSIpA', 'puuid': 'cSB3oXOB1kjBVvWU_AdOdg8D108bPO6q14Kl4lIfrMX8Yd5nAeTGQO0GWkIKVCxkl1jCO2STyKkr5w', 'name': 'Fake Dragon', 'profileIconId': 588, 'revisionDate': 1543356305000, 'summonerLevel': 70}\n"
     ]
    }
   ],
   "source": [
    "api = RiotAPI('---')\n",
    "r = api.get_summoner_by_name('Fake Dragon')\n",
    "summoner_id = r['id']\n",
    "print(r)"
   ]
  },
  {
   "cell_type": "code",
   "execution_count": 29,
   "metadata": {},
   "outputs": [
    {
     "name": "stdout",
     "output_type": "stream",
     "text": [
      "https://na1.api.riotgames.com/lol/champion-mastery/v4/champion-masteries/by-summoner/Qa8CixtL89Cpjo3rbfHLlm3lwF7AX2w4EWfHeR5Tt5C9vk8?api_key=RGAPI-9e87ebd4-08fa-4ccf-9c57-495bf27c91ea\n"
     ]
    }
   ],
   "source": [
    "mastery_list = api.get_mastery_by_summoner(summoner_id)"
   ]
  },
  {
   "cell_type": "code",
   "execution_count": 31,
   "metadata": {},
   "outputs": [
    {
     "name": "stdout",
     "output_type": "stream",
     "text": [
      "Summary statistics for  Fake Dragon :\n",
      "39 Irelia 424759\n",
      "103 Ahri 146857\n",
      "64 Lee Sin 71156\n",
      "80 Pantheon 68609\n",
      "57 Maokai 68487\n",
      "131 Diana 65021\n",
      "58 Renekton 64173\n",
      "105 Fizz 58505\n",
      "92 Riven 56753\n",
      "13 Ryze 32316\n",
      "24 Jax 27221\n",
      "62 Wukong 24421\n",
      "72 Skarner 20431\n",
      "53 Blitzcrank 18410\n",
      "4 Twisted Fate 17894\n",
      "91 Talon 13752\n",
      "60 Elise 13727\n",
      "76 Nidalee 13382\n",
      "55 Katarina 13215\n",
      "59 Jarvan IV 13139\n",
      "48 Trundle 12027\n",
      "412 Thresh 11094\n",
      "111 Nautilus 10922\n",
      "54 Malphite 10439\n",
      "114 Fiora 9844\n",
      "150 Gnar 9469\n",
      "1 Annie 9355\n",
      "127 Lissandra 9197\n",
      "121 Kha'Zix 9149\n",
      "19 Warwick 8929\n",
      "107 Rengar 8325\n",
      "89 Leona 8023\n",
      "157 Yasuo 7973\n",
      "2 Olaf 7891\n",
      "15 Sivir 7710\n",
      "122 Darius 7320\n",
      "120 Hecarim 7135\n",
      "420 Illaoi 7074\n",
      "40 Janna 6721\n",
      "79 Gragas 6674\n",
      "27 Singed 5810\n",
      "254 Vi 5761\n",
      "119 Draven 5723\n",
      "26 Zilean 5576\n",
      "117 Lulu 5319\n",
      "67 Vayne 5198\n",
      "8 Vladimir 5110\n",
      "18 Tristana 5109\n",
      "154 Zac 5101\n",
      "32 Amumu 4638\n",
      "51 Caitlyn 4547\n",
      "11 Master Yi 4515\n",
      "41 Gangplank 4513\n",
      "102 Shyvana 4323\n",
      "12 Alistar 4301\n",
      "5 Xin Zhao 4296\n",
      "83 Yorick 4261\n",
      "90 Malzahar 4216\n",
      "68 Rumble 4149\n",
      "56 Nocturne 4015\n",
      "106 Volibear 3906\n",
      "14 Sion 3904\n",
      "104 Graves 3746\n",
      "37 Sona 3608\n",
      "86 Garen 3430\n",
      "31 Cho'Gath 3336\n",
      "84 Akali 3145\n",
      "164 Camille 2954\n",
      "63 Brand 2888\n",
      "61 Orianna 2875\n",
      "10 Kayle 2871\n",
      "126 Jayce 2814\n",
      "23 Tryndamere 2786\n",
      "75 Nasus 2618\n",
      "99 Lux 2557\n",
      "163 Taliyah 2541\n",
      "7 LeBlanc 2434\n",
      "236 Lucian 2378\n",
      "113 Sejuani 2359\n",
      "36 Dr. Mundo 2353\n",
      "16 Soraka 2328\n",
      "112 Viktor 2245\n",
      "115 Ziggs 1769\n",
      "38 Kassadin 1668\n",
      "81 Ezreal 1663\n",
      "21 Miss Fortune 1634\n",
      "34 Anivia 1365\n",
      "33 Rammus 1287\n",
      "78 Poppy 1265\n",
      "74 Heimerdinger 1164\n",
      "143 Zyra 1150\n",
      "98 Shen 1093\n",
      "141 Kayn 1027\n",
      "44 Taric 991\n",
      "85 Kennen 970\n",
      "29 Twitch 962\n",
      "30 Karthus 923\n",
      "3 Galio 904\n",
      "134 Syndra 843\n",
      "50 Swain 775\n",
      "245 Ekko 638\n",
      "22 Ashe 588\n",
      "238 Zed 528\n",
      "20 Nunu 476\n",
      "25 Morgana 434\n",
      "82 Mordekaiser 377\n",
      "240 Kled 362\n",
      "268 Azir 246\n",
      "516 Ornn 206\n",
      "77 Udyr 194\n",
      "17 Teemo 184\n",
      "45 Veigar 171\n",
      "203 Kindred 165\n",
      "432 Bard 159\n",
      "9 Fiddlesticks 151\n"
     ]
    }
   ],
   "source": [
    "with open('champion_lookup.json', 'r') as json_data:\n",
    "    champion_lookup = json.loads(json_data.read())\n",
    "\n",
    "for item in mastery_list:\n",
    "    item['championName'] = champion_lookup[str(item['championId'])]\n",
    "\n",
    "print(\"Summary statistics for \",r['name'] ,\":\")\n",
    "for item in mastery_list:\n",
    "    print(item['championId'], item['championName'], item['championPoints'])"
   ]
  },
  {
   "cell_type": "code",
   "execution_count": null,
   "metadata": {},
   "outputs": [],
   "source": []
  }
 ],
 "metadata": {
  "kernelspec": {
   "display_name": "Python 3",
   "language": "python",
   "name": "python3"
  },
  "language_info": {
   "codemirror_mode": {
    "name": "ipython",
    "version": 3
   },
   "file_extension": ".py",
   "mimetype": "text/x-python",
   "name": "python",
   "nbconvert_exporter": "python",
   "pygments_lexer": "ipython3",
   "version": "3.7.0"
  }
 },
 "nbformat": 4,
 "nbformat_minor": 2
}
